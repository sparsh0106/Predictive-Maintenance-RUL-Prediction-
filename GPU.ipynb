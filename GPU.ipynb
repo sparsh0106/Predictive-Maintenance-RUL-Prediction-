{
 "cells": [
  {
   "cell_type": "code",
   "id": "initial_id",
   "metadata": {
    "collapsed": true,
    "ExecuteTime": {
     "end_time": "2025-05-06T18:38:10.938283Z",
     "start_time": "2025-05-06T18:38:09.416982Z"
    }
   },
   "source": [
    "import cudf\n",
    "import pandas as pd\n",
    "df = cudf.read_csv('/media/sparsh/CaptainSlow/Programming Stuff/Programming Stuff/UCS411 - Artificial Intelligence/AI Project/Water Pump/rul_hrs.csv')\n",
    "df"
   ],
   "outputs": [
    {
     "data": {
      "text/plain": [
       "        Unnamed: 0            timestamp  sensor_00  sensor_01  sensor_02  \\\n",
       "0                0  2018-04-01 00:00:00   2.465394  47.092010   53.21180   \n",
       "1                1  2018-04-01 00:01:00   2.465394  47.092010   53.21180   \n",
       "2                2  2018-04-01 00:02:00   2.444734  47.352430   53.21180   \n",
       "3                3  2018-04-01 00:03:00   2.460474  47.092010   53.16840   \n",
       "4                4  2018-04-01 00:04:00   2.445718  47.135410   53.21180   \n",
       "...            ...                  ...        ...        ...        ...   \n",
       "166436      166436  2018-07-25 13:56:00   2.313889  45.833330   53.03819   \n",
       "166437      166437  2018-07-25 13:57:00   2.315856  45.833332   53.03819   \n",
       "166438      166438  2018-07-25 13:58:00   2.322743  45.833330   52.99479   \n",
       "166439      166439  2018-07-25 13:59:00   2.315856  45.789930   53.03819   \n",
       "166440      166440  2018-07-25 14:00:00   2.318808  45.833332   52.99479   \n",
       "\n",
       "        sensor_03   sensor_04  sensor_05  sensor_06  sensor_07  ...  \\\n",
       "0       46.310760  634.375000   76.45975   13.41146   16.13136  ...   \n",
       "1       46.310760  634.375000   76.45975   13.41146   16.13136  ...   \n",
       "2       46.397570  638.888900   73.54598   13.32465   16.03733  ...   \n",
       "3       46.397568  628.125000   76.98898   13.31742   16.24711  ...   \n",
       "4       46.397568  636.458300   76.58897   13.35359   16.21094  ...   \n",
       "...           ...         ...        ...        ...        ...  ...   \n",
       "166436  43.923610   71.464119   73.00980   14.36632   16.21094  ...   \n",
       "166437  43.923611    3.336227   72.47576   14.33015   16.16030  ...   \n",
       "166438  43.923610    3.336227   70.48889   14.46036   16.16030  ...   \n",
       "166439  43.880210    3.336227   68.74365   14.43866   16.07350  ...   \n",
       "166440  43.880210  420.503448   72.52040   14.18547   16.24711  ...   \n",
       "\n",
       "        sensor_42  sensor_43  sensor_44  sensor_45  sensor_46  sensor_47  \\\n",
       "0       31.770832   41.92708  39.641200   65.68287   50.92593  38.194440   \n",
       "1       31.770832   41.92708  39.641200   65.68287   50.92593  38.194440   \n",
       "2       31.770830   41.66666  39.351852   65.39352   51.21528  38.194443   \n",
       "3       31.510420   40.88541  39.062500   64.81481   51.21528  38.194440   \n",
       "4       31.510420   41.40625  38.773150   65.10416   51.79398  38.773150   \n",
       "...           ...        ...        ...        ...        ...        ...   \n",
       "166436  36.458332   49.47916  52.083330   51.79398   60.47454  45.138890   \n",
       "166437  36.197910   49.47916  52.083330   51.21528   60.47454  44.849540   \n",
       "166438  36.458330   49.73958  52.083330   52.08333   61.34259  44.849540   \n",
       "166439  36.458332   50.52083  52.662040   53.24074   63.36805  44.849540   \n",
       "166440  36.458330   51.30208  52.102000   52.66204   67.12963  43.981480   \n",
       "\n",
       "        sensor_48  sensor_49  sensor_51         rul  \n",
       "0        157.9861   67.70834   201.3889  285.916667  \n",
       "1        157.9861   67.70834   201.3889  285.900000  \n",
       "2        155.9606   67.12963   203.7037  285.883333  \n",
       "3        155.9606   66.84028   203.1250  285.866667  \n",
       "4        158.2755   66.55093   201.3889  285.850000  \n",
       "...           ...        ...        ...         ...  \n",
       "166436   252.3148   69.15509   198.2060    0.066667  \n",
       "166437   253.1829   71.46991   202.8356    0.050000  \n",
       "166438   249.1319   72.33796   206.8866    0.033333  \n",
       "166439   244.5023   72.62731   209.7801    0.016667  \n",
       "166440   230.3241   69.73380   205.7292    0.000000  \n",
       "\n",
       "[166441 rows x 53 columns]"
      ],
      "text/html": [
       "<div>\n",
       "<style scoped>\n",
       "    .dataframe tbody tr th:only-of-type {\n",
       "        vertical-align: middle;\n",
       "    }\n",
       "\n",
       "    .dataframe tbody tr th {\n",
       "        vertical-align: top;\n",
       "    }\n",
       "\n",
       "    .dataframe thead th {\n",
       "        text-align: right;\n",
       "    }\n",
       "</style>\n",
       "<table border=\"1\" class=\"dataframe\">\n",
       "  <thead>\n",
       "    <tr style=\"text-align: right;\">\n",
       "      <th></th>\n",
       "      <th>Unnamed: 0</th>\n",
       "      <th>timestamp</th>\n",
       "      <th>sensor_00</th>\n",
       "      <th>sensor_01</th>\n",
       "      <th>sensor_02</th>\n",
       "      <th>sensor_03</th>\n",
       "      <th>sensor_04</th>\n",
       "      <th>sensor_05</th>\n",
       "      <th>sensor_06</th>\n",
       "      <th>sensor_07</th>\n",
       "      <th>...</th>\n",
       "      <th>sensor_42</th>\n",
       "      <th>sensor_43</th>\n",
       "      <th>sensor_44</th>\n",
       "      <th>sensor_45</th>\n",
       "      <th>sensor_46</th>\n",
       "      <th>sensor_47</th>\n",
       "      <th>sensor_48</th>\n",
       "      <th>sensor_49</th>\n",
       "      <th>sensor_51</th>\n",
       "      <th>rul</th>\n",
       "    </tr>\n",
       "  </thead>\n",
       "  <tbody>\n",
       "    <tr>\n",
       "      <th>0</th>\n",
       "      <td>0</td>\n",
       "      <td>2018-04-01 00:00:00</td>\n",
       "      <td>2.465394</td>\n",
       "      <td>47.092010</td>\n",
       "      <td>53.21180</td>\n",
       "      <td>46.310760</td>\n",
       "      <td>634.375000</td>\n",
       "      <td>76.45975</td>\n",
       "      <td>13.41146</td>\n",
       "      <td>16.13136</td>\n",
       "      <td>...</td>\n",
       "      <td>31.770832</td>\n",
       "      <td>41.92708</td>\n",
       "      <td>39.641200</td>\n",
       "      <td>65.68287</td>\n",
       "      <td>50.92593</td>\n",
       "      <td>38.194440</td>\n",
       "      <td>157.9861</td>\n",
       "      <td>67.70834</td>\n",
       "      <td>201.3889</td>\n",
       "      <td>285.916667</td>\n",
       "    </tr>\n",
       "    <tr>\n",
       "      <th>1</th>\n",
       "      <td>1</td>\n",
       "      <td>2018-04-01 00:01:00</td>\n",
       "      <td>2.465394</td>\n",
       "      <td>47.092010</td>\n",
       "      <td>53.21180</td>\n",
       "      <td>46.310760</td>\n",
       "      <td>634.375000</td>\n",
       "      <td>76.45975</td>\n",
       "      <td>13.41146</td>\n",
       "      <td>16.13136</td>\n",
       "      <td>...</td>\n",
       "      <td>31.770832</td>\n",
       "      <td>41.92708</td>\n",
       "      <td>39.641200</td>\n",
       "      <td>65.68287</td>\n",
       "      <td>50.92593</td>\n",
       "      <td>38.194440</td>\n",
       "      <td>157.9861</td>\n",
       "      <td>67.70834</td>\n",
       "      <td>201.3889</td>\n",
       "      <td>285.900000</td>\n",
       "    </tr>\n",
       "    <tr>\n",
       "      <th>2</th>\n",
       "      <td>2</td>\n",
       "      <td>2018-04-01 00:02:00</td>\n",
       "      <td>2.444734</td>\n",
       "      <td>47.352430</td>\n",
       "      <td>53.21180</td>\n",
       "      <td>46.397570</td>\n",
       "      <td>638.888900</td>\n",
       "      <td>73.54598</td>\n",
       "      <td>13.32465</td>\n",
       "      <td>16.03733</td>\n",
       "      <td>...</td>\n",
       "      <td>31.770830</td>\n",
       "      <td>41.66666</td>\n",
       "      <td>39.351852</td>\n",
       "      <td>65.39352</td>\n",
       "      <td>51.21528</td>\n",
       "      <td>38.194443</td>\n",
       "      <td>155.9606</td>\n",
       "      <td>67.12963</td>\n",
       "      <td>203.7037</td>\n",
       "      <td>285.883333</td>\n",
       "    </tr>\n",
       "    <tr>\n",
       "      <th>3</th>\n",
       "      <td>3</td>\n",
       "      <td>2018-04-01 00:03:00</td>\n",
       "      <td>2.460474</td>\n",
       "      <td>47.092010</td>\n",
       "      <td>53.16840</td>\n",
       "      <td>46.397568</td>\n",
       "      <td>628.125000</td>\n",
       "      <td>76.98898</td>\n",
       "      <td>13.31742</td>\n",
       "      <td>16.24711</td>\n",
       "      <td>...</td>\n",
       "      <td>31.510420</td>\n",
       "      <td>40.88541</td>\n",
       "      <td>39.062500</td>\n",
       "      <td>64.81481</td>\n",
       "      <td>51.21528</td>\n",
       "      <td>38.194440</td>\n",
       "      <td>155.9606</td>\n",
       "      <td>66.84028</td>\n",
       "      <td>203.1250</td>\n",
       "      <td>285.866667</td>\n",
       "    </tr>\n",
       "    <tr>\n",
       "      <th>4</th>\n",
       "      <td>4</td>\n",
       "      <td>2018-04-01 00:04:00</td>\n",
       "      <td>2.445718</td>\n",
       "      <td>47.135410</td>\n",
       "      <td>53.21180</td>\n",
       "      <td>46.397568</td>\n",
       "      <td>636.458300</td>\n",
       "      <td>76.58897</td>\n",
       "      <td>13.35359</td>\n",
       "      <td>16.21094</td>\n",
       "      <td>...</td>\n",
       "      <td>31.510420</td>\n",
       "      <td>41.40625</td>\n",
       "      <td>38.773150</td>\n",
       "      <td>65.10416</td>\n",
       "      <td>51.79398</td>\n",
       "      <td>38.773150</td>\n",
       "      <td>158.2755</td>\n",
       "      <td>66.55093</td>\n",
       "      <td>201.3889</td>\n",
       "      <td>285.850000</td>\n",
       "    </tr>\n",
       "    <tr>\n",
       "      <th>...</th>\n",
       "      <td>...</td>\n",
       "      <td>...</td>\n",
       "      <td>...</td>\n",
       "      <td>...</td>\n",
       "      <td>...</td>\n",
       "      <td>...</td>\n",
       "      <td>...</td>\n",
       "      <td>...</td>\n",
       "      <td>...</td>\n",
       "      <td>...</td>\n",
       "      <td>...</td>\n",
       "      <td>...</td>\n",
       "      <td>...</td>\n",
       "      <td>...</td>\n",
       "      <td>...</td>\n",
       "      <td>...</td>\n",
       "      <td>...</td>\n",
       "      <td>...</td>\n",
       "      <td>...</td>\n",
       "      <td>...</td>\n",
       "      <td>...</td>\n",
       "    </tr>\n",
       "    <tr>\n",
       "      <th>166436</th>\n",
       "      <td>166436</td>\n",
       "      <td>2018-07-25 13:56:00</td>\n",
       "      <td>2.313889</td>\n",
       "      <td>45.833330</td>\n",
       "      <td>53.03819</td>\n",
       "      <td>43.923610</td>\n",
       "      <td>71.464119</td>\n",
       "      <td>73.00980</td>\n",
       "      <td>14.36632</td>\n",
       "      <td>16.21094</td>\n",
       "      <td>...</td>\n",
       "      <td>36.458332</td>\n",
       "      <td>49.47916</td>\n",
       "      <td>52.083330</td>\n",
       "      <td>51.79398</td>\n",
       "      <td>60.47454</td>\n",
       "      <td>45.138890</td>\n",
       "      <td>252.3148</td>\n",
       "      <td>69.15509</td>\n",
       "      <td>198.2060</td>\n",
       "      <td>0.066667</td>\n",
       "    </tr>\n",
       "    <tr>\n",
       "      <th>166437</th>\n",
       "      <td>166437</td>\n",
       "      <td>2018-07-25 13:57:00</td>\n",
       "      <td>2.315856</td>\n",
       "      <td>45.833332</td>\n",
       "      <td>53.03819</td>\n",
       "      <td>43.923611</td>\n",
       "      <td>3.336227</td>\n",
       "      <td>72.47576</td>\n",
       "      <td>14.33015</td>\n",
       "      <td>16.16030</td>\n",
       "      <td>...</td>\n",
       "      <td>36.197910</td>\n",
       "      <td>49.47916</td>\n",
       "      <td>52.083330</td>\n",
       "      <td>51.21528</td>\n",
       "      <td>60.47454</td>\n",
       "      <td>44.849540</td>\n",
       "      <td>253.1829</td>\n",
       "      <td>71.46991</td>\n",
       "      <td>202.8356</td>\n",
       "      <td>0.050000</td>\n",
       "    </tr>\n",
       "    <tr>\n",
       "      <th>166438</th>\n",
       "      <td>166438</td>\n",
       "      <td>2018-07-25 13:58:00</td>\n",
       "      <td>2.322743</td>\n",
       "      <td>45.833330</td>\n",
       "      <td>52.99479</td>\n",
       "      <td>43.923610</td>\n",
       "      <td>3.336227</td>\n",
       "      <td>70.48889</td>\n",
       "      <td>14.46036</td>\n",
       "      <td>16.16030</td>\n",
       "      <td>...</td>\n",
       "      <td>36.458330</td>\n",
       "      <td>49.73958</td>\n",
       "      <td>52.083330</td>\n",
       "      <td>52.08333</td>\n",
       "      <td>61.34259</td>\n",
       "      <td>44.849540</td>\n",
       "      <td>249.1319</td>\n",
       "      <td>72.33796</td>\n",
       "      <td>206.8866</td>\n",
       "      <td>0.033333</td>\n",
       "    </tr>\n",
       "    <tr>\n",
       "      <th>166439</th>\n",
       "      <td>166439</td>\n",
       "      <td>2018-07-25 13:59:00</td>\n",
       "      <td>2.315856</td>\n",
       "      <td>45.789930</td>\n",
       "      <td>53.03819</td>\n",
       "      <td>43.880210</td>\n",
       "      <td>3.336227</td>\n",
       "      <td>68.74365</td>\n",
       "      <td>14.43866</td>\n",
       "      <td>16.07350</td>\n",
       "      <td>...</td>\n",
       "      <td>36.458332</td>\n",
       "      <td>50.52083</td>\n",
       "      <td>52.662040</td>\n",
       "      <td>53.24074</td>\n",
       "      <td>63.36805</td>\n",
       "      <td>44.849540</td>\n",
       "      <td>244.5023</td>\n",
       "      <td>72.62731</td>\n",
       "      <td>209.7801</td>\n",
       "      <td>0.016667</td>\n",
       "    </tr>\n",
       "    <tr>\n",
       "      <th>166440</th>\n",
       "      <td>166440</td>\n",
       "      <td>2018-07-25 14:00:00</td>\n",
       "      <td>2.318808</td>\n",
       "      <td>45.833332</td>\n",
       "      <td>52.99479</td>\n",
       "      <td>43.880210</td>\n",
       "      <td>420.503448</td>\n",
       "      <td>72.52040</td>\n",
       "      <td>14.18547</td>\n",
       "      <td>16.24711</td>\n",
       "      <td>...</td>\n",
       "      <td>36.458330</td>\n",
       "      <td>51.30208</td>\n",
       "      <td>52.102000</td>\n",
       "      <td>52.66204</td>\n",
       "      <td>67.12963</td>\n",
       "      <td>43.981480</td>\n",
       "      <td>230.3241</td>\n",
       "      <td>69.73380</td>\n",
       "      <td>205.7292</td>\n",
       "      <td>0.000000</td>\n",
       "    </tr>\n",
       "  </tbody>\n",
       "</table>\n",
       "<p>166441 rows × 53 columns</p>\n",
       "</div>"
      ]
     },
     "execution_count": 1,
     "metadata": {},
     "output_type": "execute_result"
    }
   ],
   "execution_count": 1
  },
  {
   "metadata": {
    "ExecuteTime": {
     "end_time": "2025-05-06T18:38:11.050883Z",
     "start_time": "2025-05-06T18:38:11.041608Z"
    }
   },
   "cell_type": "code",
   "source": "df = df.drop('Unnamed: 0', axis = 1)",
   "id": "4f5718ce7d21551d",
   "outputs": [],
   "execution_count": 2
  },
  {
   "metadata": {
    "ExecuteTime": {
     "end_time": "2025-05-06T18:38:11.167981Z",
     "start_time": "2025-05-06T18:38:11.126528Z"
    }
   },
   "cell_type": "code",
   "source": "df.head()",
   "id": "45c453a116e81d8b",
   "outputs": [
    {
     "data": {
      "text/plain": [
       "             timestamp  sensor_00  sensor_01  sensor_02  sensor_03  sensor_04  \\\n",
       "0  2018-04-01 00:00:00   2.465394   47.09201    53.2118  46.310760   634.3750   \n",
       "1  2018-04-01 00:01:00   2.465394   47.09201    53.2118  46.310760   634.3750   \n",
       "2  2018-04-01 00:02:00   2.444734   47.35243    53.2118  46.397570   638.8889   \n",
       "3  2018-04-01 00:03:00   2.460474   47.09201    53.1684  46.397568   628.1250   \n",
       "4  2018-04-01 00:04:00   2.445718   47.13541    53.2118  46.397568   636.4583   \n",
       "\n",
       "   sensor_05  sensor_06  sensor_07  sensor_08  ...  sensor_42  sensor_43  \\\n",
       "0   76.45975   13.41146   16.13136   15.56713  ...  31.770832   41.92708   \n",
       "1   76.45975   13.41146   16.13136   15.56713  ...  31.770832   41.92708   \n",
       "2   73.54598   13.32465   16.03733   15.61777  ...  31.770830   41.66666   \n",
       "3   76.98898   13.31742   16.24711   15.69734  ...  31.510420   40.88541   \n",
       "4   76.58897   13.35359   16.21094   15.69734  ...  31.510420   41.40625   \n",
       "\n",
       "   sensor_44  sensor_45  sensor_46  sensor_47  sensor_48  sensor_49  \\\n",
       "0  39.641200   65.68287   50.92593  38.194440   157.9861   67.70834   \n",
       "1  39.641200   65.68287   50.92593  38.194440   157.9861   67.70834   \n",
       "2  39.351852   65.39352   51.21528  38.194443   155.9606   67.12963   \n",
       "3  39.062500   64.81481   51.21528  38.194440   155.9606   66.84028   \n",
       "4  38.773150   65.10416   51.79398  38.773150   158.2755   66.55093   \n",
       "\n",
       "   sensor_51         rul  \n",
       "0   201.3889  285.916667  \n",
       "1   201.3889  285.900000  \n",
       "2   203.7037  285.883333  \n",
       "3   203.1250  285.866667  \n",
       "4   201.3889  285.850000  \n",
       "\n",
       "[5 rows x 52 columns]"
      ],
      "text/html": [
       "<div>\n",
       "<style scoped>\n",
       "    .dataframe tbody tr th:only-of-type {\n",
       "        vertical-align: middle;\n",
       "    }\n",
       "\n",
       "    .dataframe tbody tr th {\n",
       "        vertical-align: top;\n",
       "    }\n",
       "\n",
       "    .dataframe thead th {\n",
       "        text-align: right;\n",
       "    }\n",
       "</style>\n",
       "<table border=\"1\" class=\"dataframe\">\n",
       "  <thead>\n",
       "    <tr style=\"text-align: right;\">\n",
       "      <th></th>\n",
       "      <th>timestamp</th>\n",
       "      <th>sensor_00</th>\n",
       "      <th>sensor_01</th>\n",
       "      <th>sensor_02</th>\n",
       "      <th>sensor_03</th>\n",
       "      <th>sensor_04</th>\n",
       "      <th>sensor_05</th>\n",
       "      <th>sensor_06</th>\n",
       "      <th>sensor_07</th>\n",
       "      <th>sensor_08</th>\n",
       "      <th>...</th>\n",
       "      <th>sensor_42</th>\n",
       "      <th>sensor_43</th>\n",
       "      <th>sensor_44</th>\n",
       "      <th>sensor_45</th>\n",
       "      <th>sensor_46</th>\n",
       "      <th>sensor_47</th>\n",
       "      <th>sensor_48</th>\n",
       "      <th>sensor_49</th>\n",
       "      <th>sensor_51</th>\n",
       "      <th>rul</th>\n",
       "    </tr>\n",
       "  </thead>\n",
       "  <tbody>\n",
       "    <tr>\n",
       "      <th>0</th>\n",
       "      <td>2018-04-01 00:00:00</td>\n",
       "      <td>2.465394</td>\n",
       "      <td>47.09201</td>\n",
       "      <td>53.2118</td>\n",
       "      <td>46.310760</td>\n",
       "      <td>634.3750</td>\n",
       "      <td>76.45975</td>\n",
       "      <td>13.41146</td>\n",
       "      <td>16.13136</td>\n",
       "      <td>15.56713</td>\n",
       "      <td>...</td>\n",
       "      <td>31.770832</td>\n",
       "      <td>41.92708</td>\n",
       "      <td>39.641200</td>\n",
       "      <td>65.68287</td>\n",
       "      <td>50.92593</td>\n",
       "      <td>38.194440</td>\n",
       "      <td>157.9861</td>\n",
       "      <td>67.70834</td>\n",
       "      <td>201.3889</td>\n",
       "      <td>285.916667</td>\n",
       "    </tr>\n",
       "    <tr>\n",
       "      <th>1</th>\n",
       "      <td>2018-04-01 00:01:00</td>\n",
       "      <td>2.465394</td>\n",
       "      <td>47.09201</td>\n",
       "      <td>53.2118</td>\n",
       "      <td>46.310760</td>\n",
       "      <td>634.3750</td>\n",
       "      <td>76.45975</td>\n",
       "      <td>13.41146</td>\n",
       "      <td>16.13136</td>\n",
       "      <td>15.56713</td>\n",
       "      <td>...</td>\n",
       "      <td>31.770832</td>\n",
       "      <td>41.92708</td>\n",
       "      <td>39.641200</td>\n",
       "      <td>65.68287</td>\n",
       "      <td>50.92593</td>\n",
       "      <td>38.194440</td>\n",
       "      <td>157.9861</td>\n",
       "      <td>67.70834</td>\n",
       "      <td>201.3889</td>\n",
       "      <td>285.900000</td>\n",
       "    </tr>\n",
       "    <tr>\n",
       "      <th>2</th>\n",
       "      <td>2018-04-01 00:02:00</td>\n",
       "      <td>2.444734</td>\n",
       "      <td>47.35243</td>\n",
       "      <td>53.2118</td>\n",
       "      <td>46.397570</td>\n",
       "      <td>638.8889</td>\n",
       "      <td>73.54598</td>\n",
       "      <td>13.32465</td>\n",
       "      <td>16.03733</td>\n",
       "      <td>15.61777</td>\n",
       "      <td>...</td>\n",
       "      <td>31.770830</td>\n",
       "      <td>41.66666</td>\n",
       "      <td>39.351852</td>\n",
       "      <td>65.39352</td>\n",
       "      <td>51.21528</td>\n",
       "      <td>38.194443</td>\n",
       "      <td>155.9606</td>\n",
       "      <td>67.12963</td>\n",
       "      <td>203.7037</td>\n",
       "      <td>285.883333</td>\n",
       "    </tr>\n",
       "    <tr>\n",
       "      <th>3</th>\n",
       "      <td>2018-04-01 00:03:00</td>\n",
       "      <td>2.460474</td>\n",
       "      <td>47.09201</td>\n",
       "      <td>53.1684</td>\n",
       "      <td>46.397568</td>\n",
       "      <td>628.1250</td>\n",
       "      <td>76.98898</td>\n",
       "      <td>13.31742</td>\n",
       "      <td>16.24711</td>\n",
       "      <td>15.69734</td>\n",
       "      <td>...</td>\n",
       "      <td>31.510420</td>\n",
       "      <td>40.88541</td>\n",
       "      <td>39.062500</td>\n",
       "      <td>64.81481</td>\n",
       "      <td>51.21528</td>\n",
       "      <td>38.194440</td>\n",
       "      <td>155.9606</td>\n",
       "      <td>66.84028</td>\n",
       "      <td>203.1250</td>\n",
       "      <td>285.866667</td>\n",
       "    </tr>\n",
       "    <tr>\n",
       "      <th>4</th>\n",
       "      <td>2018-04-01 00:04:00</td>\n",
       "      <td>2.445718</td>\n",
       "      <td>47.13541</td>\n",
       "      <td>53.2118</td>\n",
       "      <td>46.397568</td>\n",
       "      <td>636.4583</td>\n",
       "      <td>76.58897</td>\n",
       "      <td>13.35359</td>\n",
       "      <td>16.21094</td>\n",
       "      <td>15.69734</td>\n",
       "      <td>...</td>\n",
       "      <td>31.510420</td>\n",
       "      <td>41.40625</td>\n",
       "      <td>38.773150</td>\n",
       "      <td>65.10416</td>\n",
       "      <td>51.79398</td>\n",
       "      <td>38.773150</td>\n",
       "      <td>158.2755</td>\n",
       "      <td>66.55093</td>\n",
       "      <td>201.3889</td>\n",
       "      <td>285.850000</td>\n",
       "    </tr>\n",
       "  </tbody>\n",
       "</table>\n",
       "<p>5 rows × 52 columns</p>\n",
       "</div>"
      ]
     },
     "execution_count": 3,
     "metadata": {},
     "output_type": "execute_result"
    }
   ],
   "execution_count": 3
  },
  {
   "metadata": {
    "ExecuteTime": {
     "end_time": "2025-05-06T18:38:11.254612Z",
     "start_time": "2025-05-06T18:38:11.212609Z"
    }
   },
   "cell_type": "code",
   "source": [
    "if df.isnull().sum().any() > 0:\n",
    "    print('Missing values are present')\n",
    "else:\n",
    "    print('No missing values')"
   ],
   "id": "af75b7327484de3",
   "outputs": [
    {
     "name": "stdout",
     "output_type": "stream",
     "text": [
      "No missing values\n"
     ]
    }
   ],
   "execution_count": 4
  },
  {
   "metadata": {
    "ExecuteTime": {
     "end_time": "2025-05-06T18:38:11.339172Z",
     "start_time": "2025-05-06T18:38:11.335448Z"
    }
   },
   "cell_type": "code",
   "source": [
    "X = df.iloc[:, :-1]\n",
    "y = df.iloc[:, -1]"
   ],
   "id": "aaa33a420fffb5c9",
   "outputs": [],
   "execution_count": 5
  },
  {
   "metadata": {
    "ExecuteTime": {
     "end_time": "2025-05-06T18:38:11.411132Z",
     "start_time": "2025-05-06T18:38:11.409693Z"
    }
   },
   "cell_type": "code",
   "source": "",
   "id": "1f959b30c69ad703",
   "outputs": [],
   "execution_count": null
  },
  {
   "metadata": {
    "ExecuteTime": {
     "end_time": "2025-05-06T18:38:11.489460Z",
     "start_time": "2025-05-06T18:38:11.487244Z"
    }
   },
   "cell_type": "code",
   "source": "print(type(X), type(y))",
   "id": "862f1531bea89a0a",
   "outputs": [
    {
     "name": "stdout",
     "output_type": "stream",
     "text": [
      "<class 'cudf.core.dataframe.DataFrame'> <class 'cudf.core.series.Series'>\n"
     ]
    }
   ],
   "execution_count": 6
  },
  {
   "metadata": {
    "ExecuteTime": {
     "end_time": "2025-05-06T18:38:11.568555Z",
     "start_time": "2025-05-06T18:38:11.565315Z"
    }
   },
   "cell_type": "code",
   "source": [
    "if y.isnull().sum().any() > 0:\n",
    "    print('Missing values are present')\n",
    "else:\n",
    "    print('No missing values')"
   ],
   "id": "a752e414ae1f82ae",
   "outputs": [
    {
     "name": "stdout",
     "output_type": "stream",
     "text": [
      "No missing values\n"
     ]
    }
   ],
   "execution_count": 7
  },
  {
   "metadata": {
    "ExecuteTime": {
     "end_time": "2025-05-06T18:38:11.682698Z",
     "start_time": "2025-05-06T18:38:11.642364Z"
    }
   },
   "cell_type": "code",
   "source": [
    "X['timestamp'] = cudf.to_datetime(X['timestamp'])\n",
    "X['year'] = X['timestamp'].dt.year\n",
    "X['month'] = X['timestamp'].dt.month\n",
    "X['day'] = X['timestamp'].dt.day\n",
    "X['hour'] = X['timestamp'].dt.hour\n",
    "X['minute'] = X['timestamp'].dt.minute\n",
    "X['second'] = X['timestamp'].dt.second\n",
    "X = X.drop('timestamp', axis=1)"
   ],
   "id": "7ace500b090cb3e9",
   "outputs": [],
   "execution_count": 8
  },
  {
   "metadata": {
    "ExecuteTime": {
     "end_time": "2025-05-06T18:38:11.723481Z",
     "start_time": "2025-05-06T18:38:11.721486Z"
    }
   },
   "cell_type": "code",
   "source": "X.drop(columns = ['year','second'], axis=1, inplace=True)\n",
   "id": "3e9a1c7fcc06aaed",
   "outputs": [],
   "execution_count": 9
  },
  {
   "metadata": {
    "ExecuteTime": {
     "end_time": "2025-05-06T18:38:11.907367Z",
     "start_time": "2025-05-06T18:38:11.794852Z"
    }
   },
   "cell_type": "code",
   "source": [
    "X = (X - X.mean())/X.std()\n",
    "# y = (y - y.min())/(y.max() - y.min())"
   ],
   "id": "41a8cb673788f260",
   "outputs": [],
   "execution_count": 10
  },
  {
   "metadata": {
    "ExecuteTime": {
     "end_time": "2025-05-06T18:38:11.944306Z",
     "start_time": "2025-05-06T18:38:11.942173Z"
    }
   },
   "cell_type": "code",
   "source": "print(type(X), type(y))",
   "id": "e28b958308e23f03",
   "outputs": [
    {
     "name": "stdout",
     "output_type": "stream",
     "text": [
      "<class 'cudf.core.dataframe.DataFrame'> <class 'cudf.core.series.Series'>\n"
     ]
    }
   ],
   "execution_count": 11
  },
  {
   "metadata": {
    "ExecuteTime": {
     "end_time": "2025-05-06T18:38:12.721549Z",
     "start_time": "2025-05-06T18:38:12.019553Z"
    }
   },
   "cell_type": "code",
   "source": [
    "import time\n",
    "from cuml.decomposition import PCA\n",
    "from cuml.model_selection import train_test_split\n",
    "from cuml.metrics import r2_score, mean_squared_error, mean_absolute_error"
   ],
   "id": "2dae36796b39d40f",
   "outputs": [],
   "execution_count": 12
  },
  {
   "metadata": {
    "ExecuteTime": {
     "end_time": "2025-05-06T18:38:13.075016Z",
     "start_time": "2025-05-06T18:38:12.757787Z"
    }
   },
   "cell_type": "code",
   "source": [
    "pca = PCA(n_components = 50)\n",
    "X_pca = pca.fit_transform(X)"
   ],
   "id": "d9a4169521c53a43",
   "outputs": [],
   "execution_count": 13
  },
  {
   "metadata": {
    "ExecuteTime": {
     "end_time": "2025-05-06T18:38:13.185274Z",
     "start_time": "2025-05-06T18:38:13.120222Z"
    }
   },
   "cell_type": "code",
   "source": "X_train, X_test, y_train, y_test = train_test_split(X_pca, y, test_size = 0.2, random_state = 42)",
   "id": "2921cc51bf6f9ec8",
   "outputs": [],
   "execution_count": 14
  },
  {
   "metadata": {
    "ExecuteTime": {
     "end_time": "2025-05-06T18:38:13.266364Z",
     "start_time": "2025-05-06T18:38:13.263414Z"
    }
   },
   "cell_type": "code",
   "source": "X_train.shape, X_test.shape, y_train.shape, y_test.shape",
   "id": "6d6c3a0342293a74",
   "outputs": [
    {
     "data": {
      "text/plain": [
       "((133153, 50), (33288, 50), (133153,), (33288,))"
      ]
     },
     "execution_count": 15,
     "metadata": {},
     "output_type": "execute_result"
    }
   ],
   "execution_count": 15
  },
  {
   "metadata": {
    "ExecuteTime": {
     "end_time": "2025-05-06T18:38:13.432110Z",
     "start_time": "2025-05-06T18:38:13.429861Z"
    }
   },
   "cell_type": "code",
   "source": [
    "from cuml.ensemble import RandomForestRegressor\n",
    "model = RandomForestRegressor()"
   ],
   "id": "1e61dc328f7cb40e",
   "outputs": [],
   "execution_count": 16
  },
  {
   "metadata": {
    "ExecuteTime": {
     "end_time": "2025-05-06T18:38:15.104818Z",
     "start_time": "2025-05-06T18:38:13.568190Z"
    }
   },
   "cell_type": "code",
   "source": [
    "start = time.time()\n",
    "model.fit(X_train, y_train)\n",
    "end = time.time()\n",
    "print(f\"Training time: {end - start} seconds\")"
   ],
   "id": "90478c22a871fba8",
   "outputs": [
    {
     "name": "stdout",
     "output_type": "stream",
     "text": [
      "Training time: 1.5343761444091797 seconds\n"
     ]
    }
   ],
   "execution_count": 17
  },
  {
   "metadata": {
    "ExecuteTime": {
     "end_time": "2025-05-06T18:38:16.063077Z",
     "start_time": "2025-05-06T18:38:15.251356Z"
    }
   },
   "cell_type": "code",
   "source": [
    "import cupy as cp\n",
    "\n",
    "r2 = r2_score(y_test, model.predict(X_test))\n",
    "mae = mean_absolute_error(y_test, model.predict(X_test))\n",
    "mse = mean_squared_error(y_test, model.predict(X_test))\n",
    "rmse = cp.sqrt(mse)"
   ],
   "id": "f8c7fff78a753bc5",
   "outputs": [],
   "execution_count": 18
  },
  {
   "metadata": {
    "ExecuteTime": {
     "end_time": "2025-05-06T18:38:37.284581Z",
     "start_time": "2025-05-06T18:38:37.281606Z"
    }
   },
   "cell_type": "code",
   "source": "print(f\"Accuracy: {r2*100:.2f}%\")",
   "id": "1d86f5b5f8bb31c6",
   "outputs": [
    {
     "name": "stdout",
     "output_type": "stream",
     "text": [
      "Accuracy: 97.21%\n"
     ]
    }
   ],
   "execution_count": 21
  },
  {
   "metadata": {
    "ExecuteTime": {
     "end_time": "2025-05-06T18:38:16.297879Z",
     "start_time": "2025-05-06T18:38:16.296405Z"
    }
   },
   "cell_type": "code",
   "source": "",
   "id": "78fa7435147a2d35",
   "outputs": [],
   "execution_count": null
  }
 ],
 "metadata": {
  "kernelspec": {
   "display_name": "Python 3",
   "language": "python",
   "name": "python3"
  },
  "language_info": {
   "codemirror_mode": {
    "name": "ipython",
    "version": 2
   },
   "file_extension": ".py",
   "mimetype": "text/x-python",
   "name": "python",
   "nbconvert_exporter": "python",
   "pygments_lexer": "ipython2",
   "version": "2.7.6"
  }
 },
 "nbformat": 4,
 "nbformat_minor": 5
}
